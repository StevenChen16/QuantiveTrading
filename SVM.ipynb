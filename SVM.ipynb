{
 "cells": [
  {
   "cell_type": "code",
   "execution_count": 25,
   "metadata": {},
   "outputs": [],
   "source": [
    "import yfinance as yf\n",
    "import talib\n",
    "import pandas as pd\n",
    "from sklearn.svm import SVR\n",
    "from sklearn.model_selection import train_test_split\n",
    "from sklearn.preprocessing import StandardScaler\n",
    "from sklearn.metrics import mean_squared_error\n",
    "import numpy as np\n",
    "import datetime"
   ]
  },
  {
   "cell_type": "code",
   "execution_count": 26,
   "metadata": {},
   "outputs": [],
   "source": [
    "# 函数：下载股票数据并计算技术指标\n",
    "def prepare_stock_data(stock_symbol, start_date, end_date):\n",
    "    df = yf.download(stock_symbol, start=start_date, end=end_date)\n",
    "    for ma in [15, 30, 45, 60, 90, 120]:\n",
    "        df[f'MA_{ma}'] = talib.SMA(df['Close'], timeperiod=ma)\n",
    "    df['RSI'] = talib.RSI(df['Close'], timeperiod=14)\n",
    "    df.dropna(inplace=True)\n",
    "    return df"
   ]
  },
  {
   "cell_type": "code",
   "execution_count": 27,
   "metadata": {},
   "outputs": [],
   "source": [
    "# 函数：训练 SVM 模型\n",
    "def train_svm_model(data):\n",
    "    X = data[['MA_15', 'MA_30', 'MA_45', 'MA_60', 'MA_90', 'MA_120', 'RSI']]\n",
    "    y = data['Close']\n",
    "    X_train, X_test, y_train, y_test = train_test_split(X, y, test_size=0.2, random_state=42)\n",
    "    scaler = StandardScaler()\n",
    "    X_train_scaled = scaler.fit_transform(X_train)\n",
    "    X_test_scaled = scaler.transform(X_test)\n",
    "    svm_model = SVR(kernel='rbf')\n",
    "    svm_model.fit(X_train_scaled, y_train)\n",
    "    return svm_model, scaler"
   ]
  },
  {
   "cell_type": "code",
   "execution_count": 28,
   "metadata": {},
   "outputs": [
    {
     "name": "stdout",
     "output_type": "stream",
     "text": [
      "[*********************100%%**********************]  1 of 1 completed\n",
      "[*********************100%%**********************]  1 of 1 completed\n",
      "[*********************100%%**********************]  1 of 1 completed\n",
      "[*********************100%%**********************]  1 of 1 completed\n",
      "[*********************100%%**********************]  1 of 1 completed\n",
      "[*********************100%%**********************]  1 of 1 completed\n",
      "[*********************100%%**********************]  1 of 1 completed\n",
      "[*********************100%%**********************]  1 of 1 completed\n"
     ]
    }
   ],
   "source": [
    "# 选择多个股票用于训练\n",
    "stock_symbols = ['AAPL', 'MSFT', 'GOOGL', 'TSLA', 'NVDA', 'META', 'AMD', 'DLR', \n",
    "                 'VOO', 'SPY', 'MS', 'JPM', 'NVO', 'UNH', 'AMZN', 'WMT', 'BA', \n",
    "                 'BRK', 'TLT', 'HYG', 'MCO', 'ASML', 'GE', 'MC.PA']  # 示例股票代码\n",
    "start_date = '2000-01-01'\n",
    "# end_date = '2023-11-01'\n",
    "end_date = datetime.datetime.now().strftime('%Y-%m-%d')\n",
    "\n",
    "# 汇总多个股票数据\n",
    "combined_data = pd.DataFrame()\n",
    "for symbol in stock_symbols:\n",
    "    stock_data = prepare_stock_data(symbol, start_date, end_date)\n",
    "    combined_data = combined_data._append(stock_data)"
   ]
  },
  {
   "cell_type": "code",
   "execution_count": 29,
   "metadata": {},
   "outputs": [],
   "source": [
    "# 训练模型\n",
    "svm_model, scaler = train_svm_model(combined_data)"
   ]
  },
  {
   "cell_type": "code",
   "execution_count": 30,
   "metadata": {},
   "outputs": [
    {
     "name": "stdout",
     "output_type": "stream",
     "text": [
      "[*********************100%%**********************]  1 of 1 completed\n"
     ]
    },
    {
     "data": {
      "text/html": [
       "<div>\n",
       "<style scoped>\n",
       "    .dataframe tbody tr th:only-of-type {\n",
       "        vertical-align: middle;\n",
       "    }\n",
       "\n",
       "    .dataframe tbody tr th {\n",
       "        vertical-align: top;\n",
       "    }\n",
       "\n",
       "    .dataframe thead th {\n",
       "        text-align: right;\n",
       "    }\n",
       "</style>\n",
       "<table border=\"1\" class=\"dataframe\">\n",
       "  <thead>\n",
       "    <tr style=\"text-align: right;\">\n",
       "      <th></th>\n",
       "      <th>Predicted Close</th>\n",
       "    </tr>\n",
       "    <tr>\n",
       "      <th>Date</th>\n",
       "      <th></th>\n",
       "    </tr>\n",
       "  </thead>\n",
       "  <tbody>\n",
       "    <tr>\n",
       "      <th>2023-11-16</th>\n",
       "      <td>138.597962</td>\n",
       "    </tr>\n",
       "    <tr>\n",
       "      <th>2023-11-17</th>\n",
       "      <td>133.290738</td>\n",
       "    </tr>\n",
       "    <tr>\n",
       "      <th>2023-11-20</th>\n",
       "      <td>135.301451</td>\n",
       "    </tr>\n",
       "    <tr>\n",
       "      <th>2023-11-21</th>\n",
       "      <td>137.037091</td>\n",
       "    </tr>\n",
       "    <tr>\n",
       "      <th>2023-11-22</th>\n",
       "      <td>140.856617</td>\n",
       "    </tr>\n",
       "  </tbody>\n",
       "</table>\n",
       "</div>"
      ],
      "text/plain": [
       "            Predicted Close\n",
       "Date                       \n",
       "2023-11-16       138.597962\n",
       "2023-11-17       133.290738\n",
       "2023-11-20       135.301451\n",
       "2023-11-21       137.037091\n",
       "2023-11-22       140.856617"
      ]
     },
     "execution_count": 30,
     "metadata": {},
     "output_type": "execute_result"
    }
   ],
   "source": [
    "# 使用模型对特定股票进行预测\n",
    "target_stock = 'GOOG'  # 需要预测的股票\n",
    "target_data = prepare_stock_data(target_stock, start_date, end_date)\n",
    "target_features = target_data[['MA_15', 'MA_30', 'MA_45', 'MA_60', 'MA_90', 'MA_120', 'RSI']]\n",
    "target_features_scaled = scaler.transform(target_features)\n",
    "\n",
    "# 进行预测\n",
    "target_predictions = svm_model.predict(target_features_scaled)\n",
    "\n",
    "# 显示预测结果的最后几项\n",
    "predicted_prices = pd.DataFrame(target_predictions, index=target_data.index, columns=['Predicted Close'])\n",
    "predicted_prices.tail()"
   ]
  }
 ],
 "metadata": {
  "kernelspec": {
   "display_name": "Python 3",
   "language": "python",
   "name": "python3"
  },
  "language_info": {
   "codemirror_mode": {
    "name": "ipython",
    "version": 3
   },
   "file_extension": ".py",
   "mimetype": "text/x-python",
   "name": "python",
   "nbconvert_exporter": "python",
   "pygments_lexer": "ipython3",
   "version": "3.10.8"
  }
 },
 "nbformat": 4,
 "nbformat_minor": 2
}
